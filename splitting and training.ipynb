{
 "cells": [
  {
   "cell_type": "code",
   "execution_count": 1,
   "id": "6922070a",
   "metadata": {},
   "outputs": [],
   "source": [
    "import pandas as pd "
   ]
  },
  {
   "cell_type": "code",
   "execution_count": 6,
   "id": "95e8eaaf",
   "metadata": {},
   "outputs": [],
   "source": [
    "import numpy as np \n",
    "import pandas as pd \n",
    "import matplotlib.pyplot as plt\n",
    "import seaborn as sns\n",
    "from sklearn.utils import resample\n",
    "from sklearn.model_selection import train_test_split\n",
    "from sklearn.linear_model import LogisticRegression\n",
    "from sklearn.tree import DecisionTreeClassifier\n",
    "from xgboost import XGBClassifier\n",
    "from sklearn.model_selection import cross_validate\n",
    "from sklearn.metrics import confusion_matrix, classification_report, accuracy_score\n",
    "import os"
   ]
  },
  {
   "cell_type": "code",
   "execution_count": 2,
   "id": "ccc05ca4",
   "metadata": {},
   "outputs": [],
   "source": [
    "df=pd.read_parquet(r\"C:\\Users\\beher\\jupyterZ\\Amex_credit\\cleaned.parquet\")"
   ]
  },
  {
   "cell_type": "code",
   "execution_count": 4,
   "id": "f9d45eac",
   "metadata": {},
   "outputs": [
    {
     "data": {
      "text/html": [
       "<div>\n",
       "<style scoped>\n",
       "    .dataframe tbody tr th:only-of-type {\n",
       "        vertical-align: middle;\n",
       "    }\n",
       "\n",
       "    .dataframe tbody tr th {\n",
       "        vertical-align: top;\n",
       "    }\n",
       "\n",
       "    .dataframe thead th {\n",
       "        text-align: right;\n",
       "    }\n",
       "</style>\n",
       "<table border=\"1\" class=\"dataframe\">\n",
       "  <thead>\n",
       "    <tr style=\"text-align: right;\">\n",
       "      <th></th>\n",
       "      <th>D_39</th>\n",
       "      <th>B_1</th>\n",
       "      <th>R_1</th>\n",
       "      <th>B_4</th>\n",
       "      <th>B_5</th>\n",
       "      <th>R_2</th>\n",
       "      <th>D_47</th>\n",
       "      <th>B_7</th>\n",
       "      <th>D_51</th>\n",
       "      <th>B_9</th>\n",
       "      <th>...</th>\n",
       "      <th>D_92</th>\n",
       "      <th>D_93</th>\n",
       "      <th>D_94</th>\n",
       "      <th>R_24</th>\n",
       "      <th>R_25</th>\n",
       "      <th>D_96</th>\n",
       "      <th>B_36</th>\n",
       "      <th>D_127</th>\n",
       "      <th>R_28</th>\n",
       "      <th>target</th>\n",
       "    </tr>\n",
       "  </thead>\n",
       "  <tbody>\n",
       "    <tr>\n",
       "      <th>5233647</th>\n",
       "      <td>0.034339</td>\n",
       "      <td>0.747856</td>\n",
       "      <td>0.006700</td>\n",
       "      <td>0.746436</td>\n",
       "      <td>0.018307</td>\n",
       "      <td>0.002869</td>\n",
       "      <td>0.771965</td>\n",
       "      <td>0.747538</td>\n",
       "      <td>0.009024</td>\n",
       "      <td>0.631909</td>\n",
       "      <td>...</td>\n",
       "      <td>0.009986</td>\n",
       "      <td>0.009383</td>\n",
       "      <td>0.000043</td>\n",
       "      <td>0.004732</td>\n",
       "      <td>0.003264</td>\n",
       "      <td>0.009861</td>\n",
       "      <td>0.000546</td>\n",
       "      <td>0.005012</td>\n",
       "      <td>0.004065</td>\n",
       "      <td>1</td>\n",
       "    </tr>\n",
       "    <tr>\n",
       "      <th>624859</th>\n",
       "      <td>0.003578</td>\n",
       "      <td>0.022780</td>\n",
       "      <td>0.001939</td>\n",
       "      <td>0.264557</td>\n",
       "      <td>1.215785</td>\n",
       "      <td>0.004925</td>\n",
       "      <td>0.290308</td>\n",
       "      <td>0.082434</td>\n",
       "      <td>0.007047</td>\n",
       "      <td>0.058135</td>\n",
       "      <td>...</td>\n",
       "      <td>0.008385</td>\n",
       "      <td>0.003475</td>\n",
       "      <td>0.002786</td>\n",
       "      <td>0.005189</td>\n",
       "      <td>0.005171</td>\n",
       "      <td>0.000042</td>\n",
       "      <td>0.005912</td>\n",
       "      <td>0.007893</td>\n",
       "      <td>0.006287</td>\n",
       "      <td>1</td>\n",
       "    </tr>\n",
       "    <tr>\n",
       "      <th>196467</th>\n",
       "      <td>0.002815</td>\n",
       "      <td>0.223541</td>\n",
       "      <td>0.004304</td>\n",
       "      <td>0.477318</td>\n",
       "      <td>0.009385</td>\n",
       "      <td>0.009953</td>\n",
       "      <td>0.106766</td>\n",
       "      <td>0.421082</td>\n",
       "      <td>0.002987</td>\n",
       "      <td>0.643473</td>\n",
       "      <td>...</td>\n",
       "      <td>0.008034</td>\n",
       "      <td>0.006153</td>\n",
       "      <td>0.008948</td>\n",
       "      <td>0.002648</td>\n",
       "      <td>0.009031</td>\n",
       "      <td>0.005936</td>\n",
       "      <td>0.001024</td>\n",
       "      <td>0.005549</td>\n",
       "      <td>0.006636</td>\n",
       "      <td>1</td>\n",
       "    </tr>\n",
       "    <tr>\n",
       "      <th>2567179</th>\n",
       "      <td>0.004623</td>\n",
       "      <td>0.496836</td>\n",
       "      <td>0.503342</td>\n",
       "      <td>0.186215</td>\n",
       "      <td>0.015503</td>\n",
       "      <td>1.007506</td>\n",
       "      <td>0.335911</td>\n",
       "      <td>0.381861</td>\n",
       "      <td>0.006144</td>\n",
       "      <td>0.647353</td>\n",
       "      <td>...</td>\n",
       "      <td>0.005279</td>\n",
       "      <td>0.001795</td>\n",
       "      <td>0.009014</td>\n",
       "      <td>1.005017</td>\n",
       "      <td>0.000974</td>\n",
       "      <td>0.002166</td>\n",
       "      <td>0.000631</td>\n",
       "      <td>0.005468</td>\n",
       "      <td>0.002364</td>\n",
       "      <td>1</td>\n",
       "    </tr>\n",
       "    <tr>\n",
       "      <th>2262515</th>\n",
       "      <td>0.007338</td>\n",
       "      <td>0.153364</td>\n",
       "      <td>0.001225</td>\n",
       "      <td>0.060192</td>\n",
       "      <td>0.005520</td>\n",
       "      <td>0.003316</td>\n",
       "      <td>0.006708</td>\n",
       "      <td>0.069092</td>\n",
       "      <td>0.000596</td>\n",
       "      <td>0.434987</td>\n",
       "      <td>...</td>\n",
       "      <td>0.007677</td>\n",
       "      <td>0.003418</td>\n",
       "      <td>0.004302</td>\n",
       "      <td>0.007324</td>\n",
       "      <td>0.005564</td>\n",
       "      <td>0.008930</td>\n",
       "      <td>0.007103</td>\n",
       "      <td>0.002653</td>\n",
       "      <td>0.005468</td>\n",
       "      <td>1</td>\n",
       "    </tr>\n",
       "    <tr>\n",
       "      <th>...</th>\n",
       "      <td>...</td>\n",
       "      <td>...</td>\n",
       "      <td>...</td>\n",
       "      <td>...</td>\n",
       "      <td>...</td>\n",
       "      <td>...</td>\n",
       "      <td>...</td>\n",
       "      <td>...</td>\n",
       "      <td>...</td>\n",
       "      <td>...</td>\n",
       "      <td>...</td>\n",
       "      <td>...</td>\n",
       "      <td>...</td>\n",
       "      <td>...</td>\n",
       "      <td>...</td>\n",
       "      <td>...</td>\n",
       "      <td>...</td>\n",
       "      <td>...</td>\n",
       "      <td>...</td>\n",
       "      <td>...</td>\n",
       "      <td>...</td>\n",
       "    </tr>\n",
       "    <tr>\n",
       "      <th>5531446</th>\n",
       "      <td>0.416013</td>\n",
       "      <td>0.020818</td>\n",
       "      <td>0.003487</td>\n",
       "      <td>0.000029</td>\n",
       "      <td>0.035575</td>\n",
       "      <td>0.002472</td>\n",
       "      <td>0.530723</td>\n",
       "      <td>0.018121</td>\n",
       "      <td>0.008060</td>\n",
       "      <td>0.013776</td>\n",
       "      <td>...</td>\n",
       "      <td>0.001110</td>\n",
       "      <td>0.002321</td>\n",
       "      <td>0.009730</td>\n",
       "      <td>0.008740</td>\n",
       "      <td>0.003061</td>\n",
       "      <td>0.009790</td>\n",
       "      <td>0.003618</td>\n",
       "      <td>1.009286</td>\n",
       "      <td>0.007069</td>\n",
       "      <td>0</td>\n",
       "    </tr>\n",
       "    <tr>\n",
       "      <th>5531447</th>\n",
       "      <td>0.296536</td>\n",
       "      <td>0.007209</td>\n",
       "      <td>0.005904</td>\n",
       "      <td>0.014354</td>\n",
       "      <td>0.029612</td>\n",
       "      <td>0.008717</td>\n",
       "      <td>0.534473</td>\n",
       "      <td>0.021853</td>\n",
       "      <td>0.004997</td>\n",
       "      <td>0.005645</td>\n",
       "      <td>...</td>\n",
       "      <td>0.003200</td>\n",
       "      <td>0.000006</td>\n",
       "      <td>0.000904</td>\n",
       "      <td>0.003348</td>\n",
       "      <td>0.008171</td>\n",
       "      <td>0.002250</td>\n",
       "      <td>0.006475</td>\n",
       "      <td>1.004053</td>\n",
       "      <td>0.002056</td>\n",
       "      <td>0</td>\n",
       "    </tr>\n",
       "    <tr>\n",
       "      <th>5531448</th>\n",
       "      <td>0.443984</td>\n",
       "      <td>0.013151</td>\n",
       "      <td>0.003457</td>\n",
       "      <td>0.016425</td>\n",
       "      <td>0.011857</td>\n",
       "      <td>0.008366</td>\n",
       "      <td>0.530051</td>\n",
       "      <td>0.016139</td>\n",
       "      <td>0.007014</td>\n",
       "      <td>0.004090</td>\n",
       "      <td>...</td>\n",
       "      <td>0.009890</td>\n",
       "      <td>0.004017</td>\n",
       "      <td>0.008775</td>\n",
       "      <td>0.008632</td>\n",
       "      <td>0.007456</td>\n",
       "      <td>0.008068</td>\n",
       "      <td>0.004272</td>\n",
       "      <td>1.009079</td>\n",
       "      <td>0.005076</td>\n",
       "      <td>0</td>\n",
       "    </tr>\n",
       "    <tr>\n",
       "      <th>5531449</th>\n",
       "      <td>0.442553</td>\n",
       "      <td>0.009855</td>\n",
       "      <td>0.005117</td>\n",
       "      <td>0.004424</td>\n",
       "      <td>0.019532</td>\n",
       "      <td>0.004704</td>\n",
       "      <td>0.531355</td>\n",
       "      <td>0.014798</td>\n",
       "      <td>0.003183</td>\n",
       "      <td>0.006628</td>\n",
       "      <td>...</td>\n",
       "      <td>0.006691</td>\n",
       "      <td>0.004250</td>\n",
       "      <td>0.000502</td>\n",
       "      <td>0.000088</td>\n",
       "      <td>0.000126</td>\n",
       "      <td>0.000636</td>\n",
       "      <td>0.006566</td>\n",
       "      <td>1.000004</td>\n",
       "      <td>0.008682</td>\n",
       "      <td>0</td>\n",
       "    </tr>\n",
       "    <tr>\n",
       "      <th>5531450</th>\n",
       "      <td>0.002474</td>\n",
       "      <td>0.000077</td>\n",
       "      <td>0.000809</td>\n",
       "      <td>0.018335</td>\n",
       "      <td>0.006617</td>\n",
       "      <td>0.001016</td>\n",
       "      <td>0.531610</td>\n",
       "      <td>0.028185</td>\n",
       "      <td>0.008057</td>\n",
       "      <td>0.001976</td>\n",
       "      <td>...</td>\n",
       "      <td>0.008869</td>\n",
       "      <td>0.003737</td>\n",
       "      <td>0.000146</td>\n",
       "      <td>0.009793</td>\n",
       "      <td>0.009712</td>\n",
       "      <td>0.002200</td>\n",
       "      <td>0.007781</td>\n",
       "      <td>1.002311</td>\n",
       "      <td>0.005429</td>\n",
       "      <td>0</td>\n",
       "    </tr>\n",
       "  </tbody>\n",
       "</table>\n",
       "<p>8307088 rows × 67 columns</p>\n",
       "</div>"
      ],
      "text/plain": [
       "             D_39       B_1       R_1       B_4       B_5       R_2      D_47  \\\n",
       "5233647  0.034339  0.747856  0.006700  0.746436  0.018307  0.002869  0.771965   \n",
       "624859   0.003578  0.022780  0.001939  0.264557  1.215785  0.004925  0.290308   \n",
       "196467   0.002815  0.223541  0.004304  0.477318  0.009385  0.009953  0.106766   \n",
       "2567179  0.004623  0.496836  0.503342  0.186215  0.015503  1.007506  0.335911   \n",
       "2262515  0.007338  0.153364  0.001225  0.060192  0.005520  0.003316  0.006708   \n",
       "...           ...       ...       ...       ...       ...       ...       ...   \n",
       "5531446  0.416013  0.020818  0.003487  0.000029  0.035575  0.002472  0.530723   \n",
       "5531447  0.296536  0.007209  0.005904  0.014354  0.029612  0.008717  0.534473   \n",
       "5531448  0.443984  0.013151  0.003457  0.016425  0.011857  0.008366  0.530051   \n",
       "5531449  0.442553  0.009855  0.005117  0.004424  0.019532  0.004704  0.531355   \n",
       "5531450  0.002474  0.000077  0.000809  0.018335  0.006617  0.001016  0.531610   \n",
       "\n",
       "              B_7      D_51       B_9  ...      D_92      D_93      D_94  \\\n",
       "5233647  0.747538  0.009024  0.631909  ...  0.009986  0.009383  0.000043   \n",
       "624859   0.082434  0.007047  0.058135  ...  0.008385  0.003475  0.002786   \n",
       "196467   0.421082  0.002987  0.643473  ...  0.008034  0.006153  0.008948   \n",
       "2567179  0.381861  0.006144  0.647353  ...  0.005279  0.001795  0.009014   \n",
       "2262515  0.069092  0.000596  0.434987  ...  0.007677  0.003418  0.004302   \n",
       "...           ...       ...       ...  ...       ...       ...       ...   \n",
       "5531446  0.018121  0.008060  0.013776  ...  0.001110  0.002321  0.009730   \n",
       "5531447  0.021853  0.004997  0.005645  ...  0.003200  0.000006  0.000904   \n",
       "5531448  0.016139  0.007014  0.004090  ...  0.009890  0.004017  0.008775   \n",
       "5531449  0.014798  0.003183  0.006628  ...  0.006691  0.004250  0.000502   \n",
       "5531450  0.028185  0.008057  0.001976  ...  0.008869  0.003737  0.000146   \n",
       "\n",
       "             R_24      R_25      D_96      B_36     D_127      R_28  target  \n",
       "5233647  0.004732  0.003264  0.009861  0.000546  0.005012  0.004065       1  \n",
       "624859   0.005189  0.005171  0.000042  0.005912  0.007893  0.006287       1  \n",
       "196467   0.002648  0.009031  0.005936  0.001024  0.005549  0.006636       1  \n",
       "2567179  1.005017  0.000974  0.002166  0.000631  0.005468  0.002364       1  \n",
       "2262515  0.007324  0.005564  0.008930  0.007103  0.002653  0.005468       1  \n",
       "...           ...       ...       ...       ...       ...       ...     ...  \n",
       "5531446  0.008740  0.003061  0.009790  0.003618  1.009286  0.007069       0  \n",
       "5531447  0.003348  0.008171  0.002250  0.006475  1.004053  0.002056       0  \n",
       "5531448  0.008632  0.007456  0.008068  0.004272  1.009079  0.005076       0  \n",
       "5531449  0.000088  0.000126  0.000636  0.006566  1.000004  0.008682       0  \n",
       "5531450  0.009793  0.009712  0.002200  0.007781  1.002311  0.005429       0  \n",
       "\n",
       "[8307088 rows x 67 columns]"
      ]
     },
     "execution_count": 4,
     "metadata": {},
     "output_type": "execute_result"
    }
   ],
   "source": [
    "df"
   ]
  },
  {
   "cell_type": "code",
   "execution_count": 5,
   "id": "80c08ac8",
   "metadata": {},
   "outputs": [
    {
     "data": {
      "text/plain": [
       "D_39      0\n",
       "B_1       0\n",
       "R_1       0\n",
       "B_4       0\n",
       "B_5       0\n",
       "         ..\n",
       "D_96      0\n",
       "B_36      0\n",
       "D_127     0\n",
       "R_28      0\n",
       "target    0\n",
       "Length: 67, dtype: int64"
      ]
     },
     "execution_count": 5,
     "metadata": {},
     "output_type": "execute_result"
    }
   ],
   "source": [
    "df.isna().sum()"
   ]
  },
  {
   "cell_type": "code",
   "execution_count": 7,
   "id": "7930d285",
   "metadata": {},
   "outputs": [],
   "source": [
    "X=df[['B_9', 'D_75', 'D_58', 'B_7', 'B_23', 'B_4', 'B_1', 'B_11', 'R_1',\n",
    "       'R_3', 'R_2', 'P_4', 'R_10', 'B_28', 'R_4', 'S_15', 'D_39', 'R_5',\n",
    "       'R_8']]\n",
    "y=df['target']"
   ]
  },
  {
   "cell_type": "code",
   "execution_count": 8,
   "id": "96d1e0f5",
   "metadata": {},
   "outputs": [],
   "source": [
    "X_train, X_val_test, y_train, y_val_test = train_test_split(X, y, train_size=0.98, shuffle=True, random_state=100)\n",
    "X_val, X_test, y_val, y_test = train_test_split(X_val_test, y_val_test, train_size=0.5,shuffle=True,random_state=100)"
   ]
  },
  {
   "cell_type": "markdown",
   "id": "047b0bfe",
   "metadata": {},
   "source": [
    "# LR"
   ]
  },
  {
   "cell_type": "code",
   "execution_count": 9,
   "id": "d238757e",
   "metadata": {},
   "outputs": [
    {
     "name": "stdout",
     "output_type": "stream",
     "text": [
      "LogisticRegressionModel Train Score is :  0.8248783372350093\n",
      "LogisticRegressionModel Test Score is :  0.8268589519808357\n"
     ]
    }
   ],
   "source": [
    "LogisticRegressionModel = LogisticRegression(penalty='l2',solver='sag',C=2.0,random_state=44)\n",
    "LogisticRegressionModel.fit(X_train, y_train)\n",
    "\n",
    "#Calculating Details\n",
    "print('LogisticRegressionModel Train Score is : ' , LogisticRegressionModel.score(X_train, y_train))\n",
    "print('LogisticRegressionModel Test Score is : ' , LogisticRegressionModel.score(X_test, y_test))"
   ]
  },
  {
   "cell_type": "code",
   "execution_count": 14,
   "id": "ef222a19",
   "metadata": {},
   "outputs": [
    {
     "name": "stderr",
     "output_type": "stream",
     "text": [
      "C:\\Users\\beher\\jupyterZ\\venv\\Lib\\site-packages\\sklearn\\linear_model\\_sag.py:350: ConvergenceWarning: The max_iter was reached which means the coef_ did not converge\n",
      "  warnings.warn(\n",
      "C:\\Users\\beher\\jupyterZ\\venv\\Lib\\site-packages\\sklearn\\linear_model\\_sag.py:350: ConvergenceWarning: The max_iter was reached which means the coef_ did not converge\n",
      "  warnings.warn(\n",
      "C:\\Users\\beher\\jupyterZ\\venv\\Lib\\site-packages\\sklearn\\linear_model\\_sag.py:350: ConvergenceWarning: The max_iter was reached which means the coef_ did not converge\n",
      "  warnings.warn(\n",
      "C:\\Users\\beher\\jupyterZ\\venv\\Lib\\site-packages\\sklearn\\linear_model\\_sag.py:350: ConvergenceWarning: The max_iter was reached which means the coef_ did not converge\n",
      "  warnings.warn(\n"
     ]
    },
    {
     "name": "stdout",
     "output_type": "stream",
     "text": [
      "Train Score Value :  [0.82550861 0.8242924  0.82465354 0.82525543 0.82388612]\n",
      "Test Score Value :  [0.8228709  0.82659203 0.823101   0.82165643 0.82743469]\n",
      "Fit Time :  [2.21781111 2.36947274 2.22838211 2.01893997 1.9758122 ]\n",
      "Score Time :  [0.00628924 0.00697398 0.00700498 0.         0.0040555 ]\n"
     ]
    },
    {
     "name": "stderr",
     "output_type": "stream",
     "text": [
      "C:\\Users\\beher\\jupyterZ\\venv\\Lib\\site-packages\\sklearn\\linear_model\\_sag.py:350: ConvergenceWarning: The max_iter was reached which means the coef_ did not converge\n",
      "  warnings.warn(\n"
     ]
    }
   ],
   "source": [
    "CrossValidateValues2 = cross_validate(LogisticRegressionModel, X_val, y_val, cv=5, return_train_score = True)\n",
    "\n",
    "# Showing Results\n",
    "print('Train Score Value : ', CrossValidateValues2['train_score'])\n",
    "print('Test Score Value : ', CrossValidateValues2['test_score'])\n",
    "print('Fit Time : ', CrossValidateValues2['fit_time'])\n",
    "print('Score Time : ', CrossValidateValues2['score_time'])"
   ]
  },
  {
   "cell_type": "code",
   "execution_count": 15,
   "id": "947dec5d",
   "metadata": {},
   "outputs": [
    {
     "data": {
      "image/png": "[encoded data removed]",
      "text/plain": [
       "<Figure size 400x300 with 2 Axes>"
      ]
     },
     "metadata": {},
     "output_type": "display_data"
    },
    {
     "name": "stdout",
     "output_type": "stream",
     "text": [
      "Confusion Matrix is\n",
      " [[34929  6676]\n",
      " [ 7707 33759]]\n"
     ]
    }
   ],
   "source": [
    "y_pred = LogisticRegressionModel.predict(X_test)\n",
    "\n",
    "plt.figure(figsize=(4,3))\n",
    "CM = confusion_matrix(y_test, y_pred)\n",
    "sns.heatmap(CM, center=True)\n",
    "plt.show()\n",
    "\n",
    "print('Confusion Matrix is\\n', CM)"
   ]
  },
  {
   "cell_type": "code",
   "execution_count": 16,
   "id": "74fbf0d1",
   "metadata": {},
   "outputs": [
    {
     "name": "stdout",
     "output_type": "stream",
     "text": [
      "              precision    recall  f1-score   support\n",
      "\n",
      "           0       0.82      0.84      0.83     41605\n",
      "           1       0.83      0.81      0.82     41466\n",
      "\n",
      "    accuracy                           0.83     83071\n",
      "   macro avg       0.83      0.83      0.83     83071\n",
      "weighted avg       0.83      0.83      0.83     83071\n",
      "\n",
      "0.8268589519808357\n"
     ]
    }
   ],
   "source": [
    "print(classification_report(y_test, y_pred))\n",
    "print(accuracy_score(y_test, y_pred))"
   ]
  },
  {
   "cell_type": "markdown",
   "id": "41f3dfbc",
   "metadata": {},
   "source": [
    "# XGB"
   ]
  },
  {
   "cell_type": "code",
   "execution_count": 10,
   "id": "71607a46",
   "metadata": {},
   "outputs": [
    {
     "name": "stdout",
     "output_type": "stream",
     "text": [
      "XGBClassifierModel Train Score is :  0.8587661679613156\n",
      "XGBClassifierModel Test Score is :  0.8537877237543788\n"
     ]
    }
   ],
   "source": [
    "XGBClassifierModel = XGBClassifier(n_estimators=100, max_depth=15, eta=0.01, subsample=0.6, colsample_bytree=0.8) \n",
    "XGBClassifierModel.fit(X_train, y_train)\n",
    "\n",
    "#Calculating Details\n",
    "print('XGBClassifierModel Train Score is : ' , XGBClassifierModel.score(X_train, y_train))\n",
    "print('XGBClassifierModel Test Score is : ' , XGBClassifierModel.score(X_test, y_test))"
   ]
  },
  {
   "cell_type": "code",
   "execution_count": 11,
   "id": "2bc3e249",
   "metadata": {},
   "outputs": [
    {
     "name": "stdout",
     "output_type": "stream",
     "text": [
      "Train Score Value :  [0.91239316 0.91240953 0.91256    0.91314685 0.9117324 ]\n",
      "Test Score Value :  [0.83153777 0.8378476  0.83700494 0.83459733 0.83519923]\n",
      "Fit Time :  [20.38139033 20.09104681 20.05054736 20.18304634 20.97030354]\n",
      "Score Time :  [0.03878236 0.07207608 0.04919958 0.04988432 0.07047439]\n"
     ]
    }
   ],
   "source": [
    "CrossValidateValues4 = cross_validate(XGBClassifierModel, X_val, y_val, cv=5, return_train_score = True)\n",
    "\n",
    "# Showing Results\n",
    "print('Train Score Value : ', CrossValidateValues4['train_score'])\n",
    "print('Test Score Value : ', CrossValidateValues4['test_score'])\n",
    "print('Fit Time : ', CrossValidateValues4['fit_time'])\n",
    "print('Score Time : ', CrossValidateValues4['score_time'])"
   ]
  },
  {
   "cell_type": "code",
   "execution_count": 12,
   "id": "1a873e40",
   "metadata": {},
   "outputs": [
    {
     "data": {
      "image/png": "[encoded data removed]",
      "text/plain": [
       "<Figure size 400x300 with 2 Axes>"
      ]
     },
     "metadata": {},
     "output_type": "display_data"
    },
    {
     "name": "stdout",
     "output_type": "stream",
     "text": [
      "Confusion Matrix is\n",
      " [[33893  7712]\n",
      " [ 4434 37032]]\n"
     ]
    }
   ],
   "source": [
    "y_pred_x = XGBClassifierModel.predict(X_test)\n",
    "CM_x = confusion_matrix(y_test, y_pred_x)\n",
    "\n",
    "plt.figure(figsize=(4,3))\n",
    "sns.heatmap(CM_x, center=True)\n",
    "plt.show()\n",
    "\n",
    "print('Confusion Matrix is\\n', CM_x)"
   ]
  },
  {
   "cell_type": "code",
   "execution_count": 13,
   "id": "7bddc59c",
   "metadata": {},
   "outputs": [
    {
     "name": "stdout",
     "output_type": "stream",
     "text": [
      "              precision    recall  f1-score   support\n",
      "\n",
      "           0       0.88      0.81      0.85     41605\n",
      "           1       0.83      0.89      0.86     41466\n",
      "\n",
      "    accuracy                           0.85     83071\n",
      "   macro avg       0.86      0.85      0.85     83071\n",
      "weighted avg       0.86      0.85      0.85     83071\n",
      "\n",
      "0.8537877237543788\n"
     ]
    }
   ],
   "source": [
    "print(classification_report(y_test, y_pred_x))\n",
    "print(accuracy_score(y_test, y_pred_x))"
   ]
  }
 ],
 "metadata": {
  "kernelspec": {
   "display_name": "Python 3 (ipykernel)",
   "language": "python",
   "name": "python3"
  },
  "language_info": {
   "codemirror_mode": {
    "name": "ipython",
    "version": 3
   },
   "file_extension": ".py",
   "mimetype": "text/x-python",
   "name": "python",
   "nbconvert_exporter": "python",
   "pygments_lexer": "ipython3",
   "version": "3.11.4"
  }
 },
 "nbformat": 4,
 "nbformat_minor": 5
}
